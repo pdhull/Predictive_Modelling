{
 "cells": [
  {
   "cell_type": "code",
   "execution_count": 24,
   "id": "58632043",
   "metadata": {},
   "outputs": [],
   "source": [
    "import numpy as np\n",
    "from numpy import linalg\n",
    "from sklearn.decomposition import PCA\n",
    "from sklearn.datasets import load_iris\n",
    "from sklearn.linear_model import LogisticRegression\n",
    "from sklearn.metrics import f1_score"
   ]
  },
  {
   "cell_type": "code",
   "execution_count": 25,
   "id": "501614d5",
   "metadata": {},
   "outputs": [
    {
     "data": {
      "text/plain": [
       "array([[ 1,  1],\n",
       "       [-1,  0],\n",
       "       [ 0, -1]])"
      ]
     },
     "execution_count": 25,
     "metadata": {},
     "output_type": "execute_result"
    }
   ],
   "source": [
    "# We first calculate the SVD of the matrix\n",
    "X = np.array([[1,1],[-1,0],[0,-1]])\n",
    "X"
   ]
  },
  {
   "cell_type": "code",
   "execution_count": 26,
   "id": "be91df04",
   "metadata": {},
   "outputs": [],
   "source": [
    "X_svd = np.linalg.svd(X)"
   ]
  },
  {
   "cell_type": "code",
   "execution_count": 27,
   "id": "3e460d4e",
   "metadata": {},
   "outputs": [
    {
     "data": {
      "text/plain": [
       "(array([[-8.16496581e-01, -1.66533454e-16,  5.77350269e-01],\n",
       "        [ 4.08248290e-01, -7.07106781e-01,  5.77350269e-01],\n",
       "        [ 4.08248290e-01,  7.07106781e-01,  5.77350269e-01]]),\n",
       " array([1.73205081, 1.        ]),\n",
       " array([[-0.70710678, -0.70710678],\n",
       "        [ 0.70710678, -0.70710678]]))"
      ]
     },
     "execution_count": 27,
     "metadata": {},
     "output_type": "execute_result"
    }
   ],
   "source": [
    "X_svd"
   ]
  },
  {
   "cell_type": "code",
   "execution_count": 28,
   "id": "83eff105",
   "metadata": {},
   "outputs": [
    {
     "data": {
      "text/plain": [
       "array([[-0.70710678,  0.70710678],\n",
       "       [-0.70710678, -0.70710678]])"
      ]
     },
     "execution_count": 28,
     "metadata": {},
     "output_type": "execute_result"
    }
   ],
   "source": [
    "V_transpose = X_svd[2]\n",
    "V = V_transpose.T\n",
    "V"
   ]
  },
  {
   "cell_type": "code",
   "execution_count": 29,
   "id": "e7d857b1",
   "metadata": {},
   "outputs": [
    {
     "data": {
      "text/plain": [
       "PCA(n_components=2)"
      ]
     },
     "execution_count": 29,
     "metadata": {},
     "output_type": "execute_result"
    }
   ],
   "source": [
    "# We now check if V is indeed the principal component\n",
    "pca = PCA(n_components=2)\n",
    "pca.fit(X)"
   ]
  },
  {
   "cell_type": "code",
   "execution_count": 30,
   "id": "12f3230b",
   "metadata": {},
   "outputs": [
    {
     "data": {
      "text/plain": [
       "array([[ 0.70710678,  0.70710678],\n",
       "       [ 0.70710678, -0.70710678]])"
      ]
     },
     "execution_count": 30,
     "metadata": {},
     "output_type": "execute_result"
    }
   ],
   "source": [
    "pca.components_"
   ]
  },
  {
   "cell_type": "code",
   "execution_count": 31,
   "id": "2731b0e6",
   "metadata": {},
   "outputs": [
    {
     "data": {
      "text/plain": [
       "array([[ 1.41421356e+00, -3.33066907e-16],\n",
       "       [-7.07106781e-01, -7.07106781e-01],\n",
       "       [-7.07106781e-01,  7.07106781e-01]])"
      ]
     },
     "execution_count": 31,
     "metadata": {},
     "output_type": "execute_result"
    }
   ],
   "source": [
    "Z = pca.transform(X)\n",
    "Z"
   ]
  },
  {
   "cell_type": "code",
   "execution_count": 32,
   "id": "1274abd1",
   "metadata": {},
   "outputs": [],
   "source": [
    "# We now apply PCA to Iris Example\n",
    "X,y = load_iris(return_X_y=True)\n",
    "pca = PCA(n_components=1)\n",
    "pca.fit(X)\n",
    "Z = pca.transform(X)"
   ]
  },
  {
   "cell_type": "code",
   "execution_count": 36,
   "id": "34d78ff5",
   "metadata": {},
   "outputs": [
    {
     "data": {
      "text/plain": [
       "0.93999399939994"
      ]
     },
     "execution_count": 36,
     "metadata": {},
     "output_type": "execute_result"
    }
   ],
   "source": [
    "model_logistics = LogisticRegression(random_state = 0, max_iter=1000).fit(Z,y)\n",
    "true_values = y\n",
    "predictions = model_logistics.predict(Z)\n",
    "f1_score(true_values,predictions,average='weighted')"
   ]
  }
 ],
 "metadata": {
  "kernelspec": {
   "display_name": "Python 3 (ipykernel)",
   "language": "python",
   "name": "python3"
  },
  "language_info": {
   "codemirror_mode": {
    "name": "ipython",
    "version": 3
   },
   "file_extension": ".py",
   "mimetype": "text/x-python",
   "name": "python",
   "nbconvert_exporter": "python",
   "pygments_lexer": "ipython3",
   "version": "3.9.12"
  }
 },
 "nbformat": 4,
 "nbformat_minor": 5
}
